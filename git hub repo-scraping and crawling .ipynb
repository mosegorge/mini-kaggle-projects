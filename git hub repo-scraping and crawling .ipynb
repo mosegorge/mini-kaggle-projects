{
 "cells": [
  {
   "cell_type": "markdown",
   "metadata": {},
   "source": [
    "# scraping a wikipedia page and github repositories and organize the information in a Pandas dataframe. \n",
    "\n"
   ]
  },
  {
   "cell_type": "code",
   "execution_count": 1,
   "metadata": {},
   "outputs": [],
   "source": [
    "# imports and setup \n",
    "from bs4 import BeautifulSoup\n",
    "# you can use either of these libraries to get html from a website\n",
    "import time\n",
    "import os\n",
    "\n",
    "import pandas as pd\n",
    "import scipy as sc\n",
    "import numpy as np\n",
    "\n",
    "import statsmodels.formula.api as sm\n",
    "\n",
    "import matplotlib.pyplot as plt \n",
    "plt.style.use('ggplot')\n",
    "%matplotlib inline  \n",
    "plt.rcParams['figure.figsize'] = (10, 6) \n",
    "\n",
    "# where the data is stored\n",
    "DATA_PATH=os.path.join(\"local path here\")\n",
    "new_path=os.path.join(\"local path here\")"
   ]
  },
  {
   "cell_type": "markdown",
   "metadata": {},
   "source": [
    "### Wikipedia scraping\n",
    "script that crawls a random wikipedia using this url: https://en.wikipedia.org/wiki/Special:Random (https://en.wikipedia.org/wiki/Special:Random). Once the page is downloaded it prints the name of the wikipedia entry, the date when it was last modified and the categories the page belongs to. If no categories are available it prints a message of \"no categories available\"."
   ]
  },
  {
   "cell_type": "code",
   "execution_count": 2,
   "metadata": {},
   "outputs": [
    {
     "name": "stdout",
     "output_type": "stream",
     "text": [
      "request status:OK\n",
      "\n",
      "Entry name: Nautilocalyx melittifolius\n",
      "\n",
      "Last modified date:  This page was last edited on 19 October 2019, at 04:14 (UTC).\n",
      "\n",
      "The Categories are:\n",
      "Nautilocalyx\n",
      "Endemic flora of Grenada\n",
      "Gesneriaceae stubs\n"
     ]
    }
   ],
   "source": [
    "import requests\n",
    "\n",
    "#first we will requests the page into wik_res \n",
    "url1=\"https://en.wikipedia.org/wiki/Special:Random/\"\n",
    "wik_res=requests.get(url1)\n",
    "#check that we got OK(200) from request\n",
    "print('request status:'+wik_res.reason)\n",
    "print()\n",
    "\n",
    "#then we will use BS to save html content \n",
    "wik_soup=BeautifulSoup(wik_res.content,\"html.parser\")\n",
    "\n",
    "#print the name(title) of random entry(possible also with wik_soup.title.string)\n",
    "print('Entry name:',wik_soup.find(id=\"firstHeading\").get_text())\n",
    "print()\n",
    "\n",
    "#print last modified date of page \n",
    "print('Last modified date:',wik_soup.find(id=\"footer-info-lastmod\").get_text())\n",
    "print()\n",
    "\n",
    "#iterate the html block of the categories and print them\n",
    "cat_soup=wik_soup.find(id=\"mw-normal-catlinks\")#create meta tag for the categories html block\n",
    "if cat_soup.find(\"li\") is None:#if there is no elements on categories block\n",
    "    print(\"there is no categories available\")\n",
    "else:\n",
    "    print('The Categories are:')\n",
    "    for p in cat_soup.find_all(\"li\"):#iterate category elements on block\n",
    "        print(p.get_text())#print each category\n"
   ]
  },
  {
   "cell_type": "markdown",
   "metadata": {},
   "source": [
    "###  Scrape Github Repository List using BeautifulSoup\n",
    "In this part we explore Github repositories, specifically the 100 most-starred repositories. we are going to scrape data from [this repository list](https://github.com/search?o=desc&q=stars%3A%3E1&s=stars&type=Repositories)."
   ]
  },
  {
   "cell_type": "markdown",
   "metadata": {},
   "source": [
    "\n",
    "Before you start to scrape any website you should go through the terms and services or similar pages of the website. Almost all websites post conditions to use their data. Check the terms of [https://github.com/](https://github.com/) to see whether the site permits you to scrape their data or not. Are you sure you are allowed to scrape?"
   ]
  },
  {
   "cell_type": "markdown",
   "metadata": {},
   "source": [
    "**terms:**\n",
    "\n",
    "according to the terms:\n",
    "\n",
    "Researchers may scrape public, non-personal information from the Service for research purposes, only if any    publications resulting from that research are open access.\n",
    "\n",
    "Archivists may scrape the Service for public data for archival purposes.\n",
    "\n",
    "#### its allowed to scrape , only if i am not scraping personal information\n",
    "\n"
   ]
  },
  {
   "cell_type": "markdown",
   "metadata": {},
   "source": [
    "### Load the Data\n",
    "\n",
    "To avoid any problems with GitHub blocking us from downloading the data many times, we have downloaded and saved all the html files in the [data](data) folder we will be treating the data folder as your website to be scraped. The path to data folder is stored in `DATA_PATH` variable.\n",
    "\n",
    "In the data folder we will find first 10 pages of highly starred repositories saved as `searchPage1.html`,`searchPage2.html`,`searchPage3.html` ... `searchPage10.html`\n",
    "\n",
    "Now we will read those html files in python and create a soup object. This is a two step process:\n",
    " * Read the text in the html files\n",
    " * Create the soup from the files that you've read. \n"
   ]
  },
  {
   "cell_type": "code",
   "execution_count": 3,
   "metadata": {},
   "outputs": [],
   "source": [
    "full_soup=BeautifulSoup()#create a soup var for all html's\n",
    "for filename in os.listdir(DATA_PATH): #iterate all the files on the data library\n",
    "    fullpath = os.path.join(DATA_PATH, filename)#create full path of file (on each iteration)\n",
    "    if fullpath.endswith('.html'):#if its html file\n",
    "        html_soup=BeautifulSoup(open(fullpath,'r',encoding=\"utf8\"),\"html.parser\")#read the html text into soup\n",
    "        full_soup.append(html_soup)#append each html into one soup object\n",
    "        "
   ]
  },
  {
   "cell_type": "markdown",
   "metadata": {},
   "source": [
    "### Extract Data\n",
    "\n",
    "Extracting the following data for each repository, and create a Pandas Dataframe:\n",
    "\n",
    "1. Name of the repository\n",
    "+ Number of contributors \n",
    "+ Programming language used \n",
    "+ Number of stars \n",
    "+ Number of issues\n",
    "+ Number of forks\n",
    "+ Length of readme file.\n"
   ]
  },
  {
   "cell_type": "code",
   "execution_count": 4,
   "metadata": {
    "scrolled": false
   },
   "outputs": [
    {
     "data": {
      "text/html": [
       "<div>\n",
       "<style scoped>\n",
       "    .dataframe tbody tr th:only-of-type {\n",
       "        vertical-align: middle;\n",
       "    }\n",
       "\n",
       "    .dataframe tbody tr th {\n",
       "        vertical-align: top;\n",
       "    }\n",
       "\n",
       "    .dataframe thead th {\n",
       "        text-align: right;\n",
       "    }\n",
       "</style>\n",
       "<table border=\"1\" class=\"dataframe\">\n",
       "  <thead>\n",
       "    <tr style=\"text-align: right;\">\n",
       "      <th></th>\n",
       "      <th>Name of the repository</th>\n",
       "      <th>Number of contributors</th>\n",
       "      <th>Programming language used</th>\n",
       "      <th>Number of stars</th>\n",
       "      <th>Number of issues</th>\n",
       "      <th>Number of forks</th>\n",
       "      <th>Length of readme file</th>\n",
       "    </tr>\n",
       "  </thead>\n",
       "  <tbody>\n",
       "    <tr>\n",
       "      <td>0</td>\n",
       "      <td>freeCodeCamp</td>\n",
       "      <td>3,155</td>\n",
       "      <td>JavaScript, CSS, HTML</td>\n",
       "      <td>297,367</td>\n",
       "      <td>350</td>\n",
       "      <td>20,915</td>\n",
       "      <td>5672</td>\n",
       "    </tr>\n",
       "    <tr>\n",
       "      <td>1</td>\n",
       "      <td>twbs</td>\n",
       "      <td>1,060</td>\n",
       "      <td>JavaScript, CSS, HTML, Other</td>\n",
       "      <td>130,786</td>\n",
       "      <td>275</td>\n",
       "      <td>64,021</td>\n",
       "      <td>5453</td>\n",
       "    </tr>\n",
       "    <tr>\n",
       "      <td>2</td>\n",
       "      <td>vuejs</td>\n",
       "      <td>260</td>\n",
       "      <td>JavaScript, Other</td>\n",
       "      <td>127,842</td>\n",
       "      <td>176</td>\n",
       "      <td>18,203</td>\n",
       "      <td>2858</td>\n",
       "    </tr>\n",
       "    <tr>\n",
       "      <td>3</td>\n",
       "      <td>facebook</td>\n",
       "      <td>1,281</td>\n",
       "      <td>JavaScript, HTML, C++, TypeScript, CoffeeScrip...</td>\n",
       "      <td>122,344</td>\n",
       "      <td>394</td>\n",
       "      <td>22,169</td>\n",
       "      <td>3288</td>\n",
       "    </tr>\n",
       "    <tr>\n",
       "      <td>4</td>\n",
       "      <td>tensorflow</td>\n",
       "      <td>1,835</td>\n",
       "      <td>C++, Python, HTML, Jupyter Notebook, Go, Java,...</td>\n",
       "      <td>120,562</td>\n",
       "      <td>1,717</td>\n",
       "      <td>72,013</td>\n",
       "      <td>3733</td>\n",
       "    </tr>\n",
       "    <tr>\n",
       "      <td>...</td>\n",
       "      <td>...</td>\n",
       "      <td>...</td>\n",
       "      <td>...</td>\n",
       "      <td>...</td>\n",
       "      <td>...</td>\n",
       "      <td>...</td>\n",
       "      <td>...</td>\n",
       "    </tr>\n",
       "    <tr>\n",
       "      <td>95</td>\n",
       "      <td>netdata</td>\n",
       "      <td>230</td>\n",
       "      <td>C, Python, JavaScript, Shell, CSS, HTML, Other</td>\n",
       "      <td>35,496</td>\n",
       "      <td>456</td>\n",
       "      <td>3,062</td>\n",
       "      <td>24150</td>\n",
       "    </tr>\n",
       "    <tr>\n",
       "      <td>96</td>\n",
       "      <td>ansible</td>\n",
       "      <td>4,162</td>\n",
       "      <td>Python, PowerShell, C#, Shell, Makefile, Tcl</td>\n",
       "      <td>35,360</td>\n",
       "      <td>3,935</td>\n",
       "      <td>14,363</td>\n",
       "      <td>3120</td>\n",
       "    </tr>\n",
       "    <tr>\n",
       "      <td>97</td>\n",
       "      <td>Dogfalo</td>\n",
       "      <td>252</td>\n",
       "      <td>JavaScript, CSS, HTML</td>\n",
       "      <td>35,079</td>\n",
       "      <td>446</td>\n",
       "      <td>4,709</td>\n",
       "      <td>2142</td>\n",
       "    </tr>\n",
       "    <tr>\n",
       "      <td>98</td>\n",
       "      <td>nwjs</td>\n",
       "      <td>96</td>\n",
       "      <td>C++, Python, JavaScript, HTML, Objective-C++, ...</td>\n",
       "      <td>35,015</td>\n",
       "      <td>700</td>\n",
       "      <td>3,793</td>\n",
       "      <td>4728</td>\n",
       "    </tr>\n",
       "    <tr>\n",
       "      <td>99</td>\n",
       "      <td>ElemeFE</td>\n",
       "      <td>416</td>\n",
       "      <td>Vue, JavaScript, CSS, Other</td>\n",
       "      <td>35,013</td>\n",
       "      <td>677</td>\n",
       "      <td>6,954</td>\n",
       "      <td>2208</td>\n",
       "    </tr>\n",
       "  </tbody>\n",
       "</table>\n",
       "<p>100 rows × 7 columns</p>\n",
       "</div>"
      ],
      "text/plain": [
       "   Name of the repository Number of contributors  \\\n",
       "0            freeCodeCamp                  3,155   \n",
       "1                    twbs                  1,060   \n",
       "2                   vuejs                    260   \n",
       "3                facebook                  1,281   \n",
       "4              tensorflow                  1,835   \n",
       "..                    ...                    ...   \n",
       "95                netdata                    230   \n",
       "96                ansible                  4,162   \n",
       "97                Dogfalo                    252   \n",
       "98                   nwjs                     96   \n",
       "99                ElemeFE                    416   \n",
       "\n",
       "                            Programming language used Number of stars  \\\n",
       "0                               JavaScript, CSS, HTML         297,367   \n",
       "1                        JavaScript, CSS, HTML, Other         130,786   \n",
       "2                                   JavaScript, Other         127,842   \n",
       "3   JavaScript, HTML, C++, TypeScript, CoffeeScrip...         122,344   \n",
       "4   C++, Python, HTML, Jupyter Notebook, Go, Java,...         120,562   \n",
       "..                                                ...             ...   \n",
       "95     C, Python, JavaScript, Shell, CSS, HTML, Other          35,496   \n",
       "96       Python, PowerShell, C#, Shell, Makefile, Tcl          35,360   \n",
       "97                              JavaScript, CSS, HTML          35,079   \n",
       "98  C++, Python, JavaScript, HTML, Objective-C++, ...          35,015   \n",
       "99                        Vue, JavaScript, CSS, Other          35,013   \n",
       "\n",
       "   Number of issues Number of forks  Length of readme file  \n",
       "0               350          20,915                   5672  \n",
       "1               275          64,021                   5453  \n",
       "2               176          18,203                   2858  \n",
       "3               394          22,169                   3288  \n",
       "4             1,717          72,013                   3733  \n",
       "..              ...             ...                    ...  \n",
       "95              456           3,062                  24150  \n",
       "96            3,935          14,363                   3120  \n",
       "97              446           4,709                   2142  \n",
       "98              700           3,793                   4728  \n",
       "99              677           6,954                   2208  \n",
       "\n",
       "[100 rows x 7 columns]"
      ]
     },
     "execution_count": 4,
     "metadata": {},
     "output_type": "execute_result"
    }
   ],
   "source": [
    "#the first thing is to extract all the pages(links) of repositories\n",
    "m_tag=full_soup.find_all('a',attrs={\"class\":\"v-align-middle\"})#meta tag for repositories(where the href stored)\n",
    "rep_links=[t['href'] for t in m_tag]#creating a list of all repositories pathes(from data library)\n",
    "\n",
    "#function to build a data dic for repository \n",
    "def build_repo(path):\n",
    "    #create a soup for each repository page\n",
    "    rep_path=os.path.join(new_path,path)#create a full path from to rep page\n",
    "    rep_soup=BeautifulSoup(open(rep_path,'r',encoding=\"utf8\"),\"html.parser\")#read text to soup\n",
    "    #build a dict for each repository data\n",
    "    repo={\n",
    "        'Name of the repository':'',\n",
    "        'Number of contributors':'',\n",
    "        'Programming language used':'',\n",
    "        'Number of stars':'',\n",
    "        'Number of issues':'',\n",
    "        'Number of forks':'',\n",
    "        'Length of readme file':''}\n",
    "    #analyze and scrape all data requierd from the soup\n",
    "    repo['Name of the repository']=rep_soup.find('a',{\"class\":\"url fn\"}).string #extracting the name\n",
    "    \n",
    "    rep_cont=rep_soup.find_all('span',{\"class\":\"num text-emphasized\"})[3].string.strip()#extracting num of contributes \n",
    "    if rep_cont=='∞':#specific repository with the infinity flag\n",
    "        repo['Number of contributors']=15000\n",
    "    else:\n",
    "        repo['Number of contributors']=rep_cont\n",
    "    \n",
    "    lang_tag=rep_soup.find_all('span',{\"class\":\"lang\"})#meta tag for the languages html block \n",
    "    lanstr=[m.get_text() for m in lang_tag]#creating a string array with the languages\n",
    "    if len(lanstr)==0:#if there is no languages used\n",
    "        repo['Programming language used']=\"None\"\n",
    "    else:#else update the value\n",
    "        repo['Programming language used']=str(lanstr).replace(\"'\",'')[1:-1]#implement list like a string\n",
    "        \n",
    "    repo['Number of stars']=rep_soup.find('a',{\"class\":\"social-count js-social-count\"}).string.strip()#extracting num of stars\n",
    "    \n",
    "    repo['Number of issues']=rep_soup.find('span',attrs={\"class\":\"Counter\"}).get_text()#extracting num of issues\n",
    "    \n",
    "    repo['Number of forks']=rep_soup.find_all('a',{\"class\":\"social-count\"})[2].string.strip()#extracting num of forks\n",
    "                \n",
    "    repo['Length of readme file']=len(rep_soup.find(attrs={\"class\":\"Box-body p-6\"}).text) #updating the length of readme file  \n",
    "    \n",
    "    return repo\n",
    "\n",
    "all_rep_data=[]#all repositories dictionaries will be saved here\n",
    "\n",
    "#iterate all the repositories links and create a list               \n",
    "for path in rep_links:\n",
    "    all_rep_data.append(build_repo(path))#append each repository object to data list\n",
    "    \n",
    "#now we have all the data in a list of dictionaries and we will create dataframe    \n",
    "rep_df=pd.DataFrame(all_rep_data)\n",
    "rep_df.to_csv('C:/Users/moshi/Downloads/notebooks/matala 2/project_info.csv')\n",
    "\n",
    "#print data frame for test\n",
    "rep_df"
   ]
  },
  {
   "cell_type": "markdown",
   "metadata": {},
   "source": [
    "###  Analyzing the repository data"
   ]
  },
  {
   "cell_type": "code",
   "execution_count": null,
   "metadata": {
    "scrolled": true
   },
   "outputs": [],
   "source": [
    "rep_dataf=pd.read_csv('project_info.csv',index_col=0)#loading the csv file into data frame"
   ]
  },
  {
   "cell_type": "markdown",
   "metadata": {
    "collapsed": true
   },
   "source": [
    "### Reformat the data into useful datatypes"
   ]
  },
  {
   "cell_type": "code",
   "execution_count": 6,
   "metadata": {},
   "outputs": [
    {
     "name": "stdout",
     "output_type": "stream",
     "text": [
      "Name of the repository       object\n",
      "Number of contributors       object\n",
      "Programming language used    object\n",
      "Number of stars              object\n",
      "Number of issues             object\n",
      "Number of forks              object\n",
      "Length of readme file         int64\n",
      "dtype: object\n",
      "\n",
      "Data types after reformat:\n",
      "Name of the repository       object\n",
      "Number of contributors        int32\n",
      "Programming language used    object\n",
      "Number of stars               int32\n",
      "Number of issues              int32\n",
      "Number of forks               int32\n",
      "Length of readme file         int64\n",
      "dtype: object\n"
     ]
    }
   ],
   "source": [
    "print(rep_dataf.dtypes)#1.print the dtypes of each colmun\n",
    "\n",
    "#2.in each col , we will remove comma using replace and then we will change the col type to int\n",
    "rep_dataf['Number of contributors']=rep_dataf['Number of contributors'].astype(str).str.replace(',','').astype(int)\n",
    "rep_dataf['Number of stars']=rep_dataf['Number of stars'].astype(str).str.replace(',','').astype(int)\n",
    "rep_dataf['Number of issues']=rep_dataf['Number of issues'].astype(str).str.replace(',','').astype(int)\n",
    "rep_dataf['Number of forks']=rep_dataf['Number of forks'].astype(str).str.replace(',','').astype(int)\n",
    "print()\n",
    "print('Data types after reformat:')\n",
    "print(rep_dataf.dtypes)\n",
    "\n",
    "#3.the repository that flagged as infinity has change in last question to 15k"
   ]
  },
  {
   "cell_type": "markdown",
   "metadata": {},
   "source": [
    "### Describe the data"
   ]
  },
  {
   "cell_type": "code",
   "execution_count": 7,
   "metadata": {},
   "outputs": [
    {
     "name": "stdout",
     "output_type": "stream",
     "text": [
      "AxesSubplot(0.125,0.125;0.62x0.755)\n",
      "[[<matplotlib.axes._subplots.AxesSubplot object at 0x000001BFC4619388>\n",
      "  <matplotlib.axes._subplots.AxesSubplot object at 0x000001BFC4650E48>\n",
      "  <matplotlib.axes._subplots.AxesSubplot object at 0x000001BFC4683788>\n",
      "  <matplotlib.axes._subplots.AxesSubplot object at 0x000001BFC46BB888>\n",
      "  <matplotlib.axes._subplots.AxesSubplot object at 0x000001BFC46F5988>]\n",
      " [<matplotlib.axes._subplots.AxesSubplot object at 0x000001BFC472EA88>\n",
      "  <matplotlib.axes._subplots.AxesSubplot object at 0x000001BFC4766B88>\n",
      "  <matplotlib.axes._subplots.AxesSubplot object at 0x000001BFC479DC88>\n",
      "  <matplotlib.axes._subplots.AxesSubplot object at 0x000001BFC47A9888>\n",
      "  <matplotlib.axes._subplots.AxesSubplot object at 0x000001BFC47E1D08>]\n",
      " [<matplotlib.axes._subplots.AxesSubplot object at 0x000001BFC4848F08>\n",
      "  <matplotlib.axes._subplots.AxesSubplot object at 0x000001BFC4886088>\n",
      "  <matplotlib.axes._subplots.AxesSubplot object at 0x000001BFC48C11C8>\n",
      "  <matplotlib.axes._subplots.AxesSubplot object at 0x000001BFC48F82C8>\n",
      "  <matplotlib.axes._subplots.AxesSubplot object at 0x000001BFC49303C8>]\n",
      " [<matplotlib.axes._subplots.AxesSubplot object at 0x000001BFC496A448>\n",
      "  <matplotlib.axes._subplots.AxesSubplot object at 0x000001BFC49A2548>\n",
      "  <matplotlib.axes._subplots.AxesSubplot object at 0x000001BFC49DFE48>\n",
      "  <matplotlib.axes._subplots.AxesSubplot object at 0x000001BFC4A12788>\n",
      "  <matplotlib.axes._subplots.AxesSubplot object at 0x000001BFC4A4B888>]\n",
      " [<matplotlib.axes._subplots.AxesSubplot object at 0x000001BFC4A83948>\n",
      "  <matplotlib.axes._subplots.AxesSubplot object at 0x000001BFC4ABCA88>\n",
      "  <matplotlib.axes._subplots.AxesSubplot object at 0x000001BFC4AF6B88>\n",
      "  <matplotlib.axes._subplots.AxesSubplot object at 0x000001BFC4B2EC88>\n",
      "  <matplotlib.axes._subplots.AxesSubplot object at 0x000001BFC4B66DC8>]]\n"
     ]
    },
    {
     "data": {
      "image/png": "[encoded data removed]",
      "text/plain": [
       "<Figure size 432x288 with 2 Axes>"
      ]
     },
     "metadata": {
      "needs_background": "light"
     },
     "output_type": "display_data"
    },
    {
     "data": {
      "image/png": "[encoded data removed]",
      "text/plain": [
       "<Figure size 432x288 with 25 Axes>"
      ]
     },
     "metadata": {
      "needs_background": "light"
     },
     "output_type": "display_data"
    }
   ],
   "source": [
    "#PREMISSION ONLY\n",
    "import seaborn as sns#lib for heat map\n",
    "\n",
    "rep_describe=rep_dataf.describe()#first we will save the describetion to var\n",
    "rep_corr_mat=rep_dataf.corr()#creating a correlation matrix\n",
    "print(sns.heatmap(rep_corr_mat,annot=True))#visualize to heatmap\n",
    "\n",
    "\n",
    "from pandas.plotting import scatter_matrix\n",
    "scat_mat=scatter_matrix(rep_corr_mat)#visualize correlation matrix with scatterplot matrix\n",
    "print(scat_mat)\n"
   ]
  }
 ],
 "metadata": {
  "kernelspec": {
   "display_name": "Python 3",
   "language": "python",
   "name": "python3"
  },
  "language_info": {
   "codemirror_mode": {
    "name": "ipython",
    "version": 3
   },
   "file_extension": ".py",
   "mimetype": "text/x-python",
   "name": "python",
   "nbconvert_exporter": "python",
   "pygments_lexer": "ipython3",
   "version": "3.7.4"
  }
 },
 "nbformat": 4,
 "nbformat_minor": 2
}
