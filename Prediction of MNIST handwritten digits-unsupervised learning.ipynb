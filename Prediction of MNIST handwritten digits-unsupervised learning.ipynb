{
 "cells": [
  {
   "cell_type": "markdown",
   "metadata": {},
   "source": [
    "## prediction of digits photos\n"
   ]
  },
  {
   "cell_type": "code",
   "execution_count": 1,
   "metadata": {},
   "outputs": [],
   "source": [
    "# imports and setup \n",
    "\n",
    "import pandas as pd\n",
    "import numpy as np\n",
    "\n",
    "from sklearn import tree, metrics\n",
    "from sklearn.neighbors import KNeighborsClassifier\n",
    "from sklearn.ensemble import RandomForestClassifier\n",
    "from sklearn.naive_bayes import GaussianNB\n",
    "from sklearn.model_selection import train_test_split, cross_val_score\n",
    "from sklearn.datasets import load_digits\n",
    "from sklearn.preprocessing import scale\n",
    "\n",
    "\n",
    "import matplotlib.pyplot as plt\n",
    "%matplotlib inline\n",
    "plt.rcParams['figure.figsize'] = (10, 6)\n",
    "plt.style.use('ggplot')"
   ]
  },
  {
   "cell_type": "markdown",
   "metadata": {},
   "source": [
    "### MNIST handwritten digits"
   ]
  },
  {
   "cell_type": "markdown",
   "metadata": {},
   "source": [
    "**scaling the data**"
   ]
  },
  {
   "cell_type": "code",
   "execution_count": 2,
   "metadata": {},
   "outputs": [
    {
     "name": "stdout",
     "output_type": "stream",
     "text": [
      "<class 'numpy.ndarray'>\n",
      "n_digits: 10, n_samples 1797, n_features 64\n"
     ]
    }
   ],
   "source": [
    "digits = load_digits()\n",
    "#X = scale(digits.data)\n",
    "X = digits.data\n",
    "X1 = digits.data\n",
    "\n",
    "#print(X[0])\n",
    "#print(X1[0])\n",
    "y = digits.target\n",
    "print(type(X))\n",
    "\n",
    "n_samples, n_features = X.shape\n",
    "n_digits = len(np.unique(digits.target))\n",
    "print(\"n_digits: %d, n_samples %d, n_features %d\" % (n_digits, n_samples, n_features))\n"
   ]
  },
  {
   "cell_type": "code",
   "execution_count": 3,
   "metadata": {},
   "outputs": [
    {
     "name": "stdout",
     "output_type": "stream",
     "text": [
      "===\n",
      "The digit\n",
      "0\n",
      "===\n",
      "The raw data\n",
      "[[ 0.  0.  5. 13.  9.  1.  0.  0.]\n",
      " [ 0.  0. 13. 15. 10. 15.  5.  0.]\n",
      " [ 0.  3. 15.  2.  0. 11.  8.  0.]\n",
      " [ 0.  4. 12.  0.  0.  8.  8.  0.]\n",
      " [ 0.  5.  8.  0.  0.  9.  8.  0.]\n",
      " [ 0.  4. 11.  0.  1. 12.  7.  0.]\n",
      " [ 0.  2. 14.  5. 10. 12.  0.  0.]\n",
      " [ 0.  0.  6. 13. 10.  0.  0.  0.]]\n",
      "===\n",
      "The scaled data\n",
      "[ 0.  0.  5. 13.  9.  1.  0.  0.  0.  0. 13. 15. 10. 15.  5.  0.  0.  3.\n",
      " 15.  2.  0. 11.  8.  0.  0.  4. 12.  0.  0.  8.  8.  0.  0.  5.  8.  0.\n",
      "  0.  9.  8.  0.  0.  4. 11.  0.  1. 12.  7.  0.  0.  2. 14.  5. 10. 12.\n",
      "  0.  0.  0.  0.  6. 13. 10.  0.  0.  0.]\n"
     ]
    }
   ],
   "source": [
    "# this is what one digit (a zero) looks like\n",
    "\n",
    "print(\"===\\nThe digit\")\n",
    "print(digits.target[0])\n",
    "\n",
    "print(\"===\\nThe raw data\")\n",
    "print(digits.images[0])\n",
    "\n",
    "print(\"===\\nThe scaled data\")\n",
    "print(X[0])"
   ]
  },
  {
   "cell_type": "code",
   "execution_count": 4,
   "metadata": {},
   "outputs": [
    {
     "data": {
      "image/png": "[encoded data removed]",
      "text/plain": [
       "<Figure size 720x720 with 25 Axes>"
      ]
     },
     "metadata": {
      "needs_background": "light"
     },
     "output_type": "display_data"
    }
   ],
   "source": [
    "plt.figure(figsize= (10, 10))    \n",
    "for ii in np.arange(25):\n",
    "    plt.subplot(5, 5, ii+1)\n",
    "    plt.imshow(np.reshape(digits.images[ii,:],(8,8)), cmap='Greys',interpolation='nearest')\n",
    "    plt.axis('off')\n",
    "plt.show()\n"
   ]
  },
  {
   "cell_type": "markdown",
   "metadata": {},
   "source": [
    "**confusion matrix and split**"
   ]
  },
  {
   "cell_type": "code",
   "execution_count": 5,
   "metadata": {},
   "outputs": [],
   "source": [
    "from sklearn.metrics import confusion_matrix\n",
    "\n",
    "# data split\n",
    "XTrain, XTest, yTrain, yTest = train_test_split(X, y, random_state=1, test_size=0.5)\n"
   ]
  },
  {
   "cell_type": "code",
   "execution_count": 6,
   "metadata": {},
   "outputs": [
    {
     "name": "stdout",
     "output_type": "stream",
     "text": [
      "DT\n",
      "++++++++++\n",
      "Accuracy on Train data=  1.0\n",
      "Accuracy on test data=  0.8487208008898777\n",
      "[[77  0  1  0  3  0  0  0  1  1]\n",
      " [ 0 80  5  1  0  0  0  1  4  2]\n",
      " [ 0  1 72  1  5  1  0  1  4  0]\n",
      " [ 0  0  2 78  0  0  0  5  4  9]\n",
      " [ 0  0  0  0 88  2  5  1  3  1]\n",
      " [ 0  0  0  1  3 75  1  0  1  0]\n",
      " [ 0  0  0  0  4  0 82  1  0  1]\n",
      " [ 0  0  1  1  6  1  0 71  1  8]\n",
      " [ 0  1  1  4  6  3  0  2 61  3]\n",
      " [ 1  1  0 10  1  3  0  4  2 79]]\n",
      "RandomForest\n",
      "++++++++++\n",
      "Accuracy on Train data=  1.0\n",
      "Accuracy on test data=  0.9721913236929922\n",
      "[[81  0  0  0  2  0  0  0  0  0]\n",
      " [ 0 92  0  0  0  1  0  0  0  0]\n",
      " [ 0  0 85  0  0  0  0  0  0  0]\n",
      " [ 0  0  0 92  0  0  0  3  2  1]\n",
      " [ 0  0  0  0 99  0  0  1  0  0]\n",
      " [ 0  0  0  0  1 78  1  0  1  0]\n",
      " [ 0  0  0  0  0  0 88  0  0  0]\n",
      " [ 0  0  0  0  0  0  0 88  0  1]\n",
      " [ 0  0  1  0  0  0  0  0 80  0]\n",
      " [ 0  1  0  1  0  2  0  4  2 91]]\n",
      "NB\n",
      "++++++++++\n",
      "Accuracy on Train data=  0.8964365256124721\n",
      "Accuracy on test data=  0.8464961067853171\n",
      "[[78  1  0  0  2  0  0  1  1  0]\n",
      " [ 0 78  2  0  0  0  0  0 13  0]\n",
      " [ 0  6 60  2  1  0  0  0 16  0]\n",
      " [ 0  2  2 82  0  1  0  4  5  2]\n",
      " [ 1  6  0  0 87  0  1  3  2  0]\n",
      " [ 0  1  0  2  1 72  1  1  3  0]\n",
      " [ 0  2  1  0  0  0 85  0  0  0]\n",
      " [ 0  0  0  0  1  0  0 88  0  0]\n",
      " [ 0  5  0  0  0  0  0  0 76  0]\n",
      " [ 1  7  1 11  2  3  1  9 11 55]]\n",
      "knn\n",
      "++++++++++\n",
      "Accuracy on Train data=  0.9899777282850779\n",
      "Accuracy on test data=  0.9799777530589544\n",
      "[[83  0  0  0  0  0  0  0  0  0]\n",
      " [ 0 91  1  0  0  1  0  0  0  0]\n",
      " [ 0  0 83  0  0  0  0  1  1  0]\n",
      " [ 0  0  0 97  0  0  0  1  0  0]\n",
      " [ 0  0  0  0 99  0  0  1  0  0]\n",
      " [ 0  0  0  0  0 79  1  0  0  1]\n",
      " [ 0  0  0  0  0  0 88  0  0  0]\n",
      " [ 0  0  0  0  0  0  0 89  0  0]\n",
      " [ 0  1  0  1  0  0  0  0 79  0]\n",
      " [ 0  1  0  2  0  3  0  1  1 93]]\n"
     ]
    }
   ],
   "source": [
    "#trying various algo's\n",
    "clf1 = tree.DecisionTreeClassifier()\n",
    "clf2 = RandomForestClassifier(bootstrap=True, n_estimators=300, random_state=0)\n",
    "clf3 = GaussianNB()\n",
    "clf4 = KNeighborsClassifier(n_neighbors=5)\n",
    "\n",
    "algName=[\"DT\",\"RandomForest\",\"NB\",\"knn\"]\n",
    "\n",
    "\n",
    "for id,clf in enumerate([clf1,clf2,clf3,clf4]):\n",
    "    clf.fit(XTrain,yTrain)\n",
    "    \n",
    "    print(algName[id])\n",
    "    print(\"++++++++++\")\n",
    "    y_pred = clf.predict(XTest)\n",
    "    y_pred_train = clf.predict(XTrain)\n",
    "\n",
    "    # Print results\n",
    "    print('Accuracy on Train data= ', metrics.accuracy_score(y_true = yTrain, y_pred = y_pred_train))\n",
    "    print('Accuracy on test data= ', metrics.accuracy_score(y_true = yTest, y_pred = y_pred))\n",
    "\n",
    "    print(confusion_matrix(yTest, y_pred))\n"
   ]
  },
  {
   "cell_type": "code",
   "execution_count": 7,
   "metadata": {},
   "outputs": [
    {
     "name": "stderr",
     "output_type": "stream",
     "text": [
      "C:\\Users\\moshi\\Anaconda3\\lib\\site-packages\\sklearn\\model_selection\\_search.py:814: DeprecationWarning: The default of the `iid` parameter will change from True to False in version 0.22 and will be removed in 0.24. This will change numeric results when test-set sizes are unequal.\n",
      "  DeprecationWarning)\n"
     ]
    },
    {
     "name": "stdout",
     "output_type": "stream",
     "text": [
      "DT\n",
      "best value 0.8247078464106845 for permutation {'max_depth': 10, 'min_samples_split': 10}\n",
      "knn\n",
      "best value 0.9627156371730662 for permutation {'n_neighbors': 5}\n"
     ]
    }
   ],
   "source": [
    "from sklearn.model_selection import GridSearchCV\n",
    "\n",
    "clf = tree.DecisionTreeClassifier()\n",
    "parameters = {'max_depth':(3,5,10), 'min_samples_split':[10, 15,20]}\n",
    "clfCV = GridSearchCV(clf, parameters, cv=10)\n",
    "clfCV.fit(X, y)\n",
    "\n",
    "am=np.argmax(clfCV.cv_results_[\"mean_test_score\"])\n",
    "print(\"DT\")\n",
    "print(\"best value {} for permutation {}\".format(clfCV.cv_results_[\"mean_test_score\"][am],clfCV.cv_results_[\"params\"][am]))\n",
    "\n",
    "clf = KNeighborsClassifier(n_neighbors=10)\n",
    "parameters = {'n_neighbors':(5,10,100,200)}\n",
    "clfCV = GridSearchCV(clf, parameters, cv=5)\n",
    "clfCV.fit(X, y)\n",
    "\n",
    "am=np.argmax(clfCV.cv_results_[\"mean_test_score\"])\n",
    "print(\"knn\")\n",
    "print(\"best value {} for permutation {}\".format(clfCV.cv_results_[\"mean_test_score\"][am],clfCV.cv_results_[\"params\"][am]))\n"
   ]
  }
 ],
 "metadata": {
  "anaconda-cloud": {},
  "kernelspec": {
   "display_name": "Python 3",
   "language": "python",
   "name": "python3"
  },
  "language_info": {
   "codemirror_mode": {
    "name": "ipython",
    "version": 3
   },
   "file_extension": ".py",
   "mimetype": "text/x-python",
   "name": "python",
   "nbconvert_exporter": "python",
   "pygments_lexer": "ipython3",
   "version": "3.7.4"
  }
 },
 "nbformat": 4,
 "nbformat_minor": 4
}
